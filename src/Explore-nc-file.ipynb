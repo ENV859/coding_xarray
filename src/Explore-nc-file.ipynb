{
 "cells": [
  {
   "cell_type": "markdown",
   "id": "44a0f982",
   "metadata": {},
   "source": [
    "# Explore NetCDF (*.nc) file"
   ]
  },
  {
   "cell_type": "code",
   "execution_count": null,
   "id": "86cc2c47",
   "metadata": {},
   "outputs": [],
   "source": [
    "# Import packages\n",
    "from pathlib import Path\n",
    "import pandas as pd\n",
    "import xarray as xr"
   ]
  },
  {
   "cell_type": "markdown",
   "id": "29691683",
   "metadata": {},
   "source": [
    "## The `xarray` [dataset object](https://docs.xarray.dev/en/stable/generated/xarray.Dataset.html). \n"
   ]
  },
  {
   "cell_type": "code",
   "execution_count": null,
   "id": "61b0aa0f",
   "metadata": {},
   "outputs": [],
   "source": [
    "# Set path to nc filed and import as an xarray dataset\n",
    "nc_file = Path.cwd().parent/'data'/'raw'/'multi_reanal.partition.aoc_15m.197901.nc'\n",
    "ds = xr.open_dataset(nc_file)\n",
    "ds"
   ]
  },
  {
   "cell_type": "markdown",
   "id": "b494f9c1",
   "metadata": {},
   "source": [
    "### The components of an `xarray` dataset object:\n",
    "### ➡️Dimensions\n",
    "Dimensions define the axes or coordinate lengths that structure the dataset. They describe how data is organized — e.g., time, space, or ensemble members. \n",
    "\n",
    "The results above indicate:\n",
    "* There are **745 time steps** (`date: 745`)\n",
    "* Each time step includes data for **1694 spatial gridpoints** (`gridpoint: 1694`)\n",
    "*  Each gridpoint is associated with **12 partitions** or 12 measurements (`partitions: 12`)\n",
    "\n",
    "> Dimensions are the *axes of a multidimensional spreadsheet*.\n",
    "\n",
    "### ➡️Data Variables\n",
    "Data variables are the core measured or modeled quantities — the actual “data fields” stored along the dataset’s dimensions.\n",
    "\n",
    "Each data variable can depend on one or more dimensions.\n",
    "For instance:\n",
    "```python\n",
    "longitude(date, gridpoint)\n",
    "significant_wave_height(date, gridpoint, partition)\n",
    "```\n",
    "* **longitude** varies over date and gridpoint — meaning it could change slightly over time (e.g., if the grid moves or data assimilations adjust).\n",
    "* **significant_wave_height** varies over date, gridpoint, and partition, so it’s a 3D variable: wave height for each partition of the spectrum at each time and location.\n",
    "> Each variable is like a column in a data table, but in multiple dimensions.\n",
    "\n",
    "### ➡️Indexes\n",
    "Indexes (or coordinates) define the values associated with dimensions.\n",
    "They describe what each position along an axis means — like labels for time, space, or category.\n",
    "\n",
    "In the dataset:\n",
    "```python\n",
    "date → datetime64[ns]\n",
    "gridpoint → float64 gridpoint\n",
    "partition → int32 partition\n",
    "```\n",
    "* `date` is indexed by actual datetimes (likely the times of each model output).\n",
    "* `gridpoint` might be an index ID or physical location identifier.\n",
    "* `partition` labels the wave components (e.g., 1–12).\n",
    "\n",
    "Sometimes coordinates like latitude and longitude are also stored as data variables that depend on these dimensions:\n",
    "\n",
    "```python\n",
    "latitude(date, gridpoint)\n",
    "longitude(date, gridpoint)\n",
    "```\n",
    "\n",
    "These serve as geolocation coordinates, helping you map or spatially analyze the data.\n",
    "\n",
    "#### ➡️Attributes (Metadata)\n",
    "Attributes are descriptive metadata — they provide context about the dataset or variables but don’t affect the data structure.\n",
    "```text\n",
    "title:          WAVEWATCH III version 5.08\n",
    "institution:    National Centers for Environmental Prediction\n",
    "source:         WAVEWATCH III partition file\n",
    "experiment:     CFSRR Phase 2\n",
    "history:        part2nc\n",
    "field_type:     instantaneous\n",
    "forecast_type:  hindcast\n",
    "```\n",
    "They tell you:\n",
    "* What the data represents (a hindcast from WAVEWATCH III).\n",
    "* Where it came from (NCEP, CFSRR project).\n",
    "* How it was produced (part2nc = partition-to-NetCDF conversion).\n",
    "Each variable may also have its own attributes (e.g., units, standard names).\n",
    ">Attributes are like the notes on the spreadsheet explaining what the numbers mean."
   ]
  },
  {
   "cell_type": "markdown",
   "id": "2cba3631",
   "metadata": {},
   "source": [
    "---\n",
    "## Selecting data from the dataset\n",
    "\n",
    "### Selecting a specific variable\n",
    "We can subset our dataset for just values related to a specific variable by calling that variable as so:"
   ]
  },
  {
   "cell_type": "code",
   "execution_count": null,
   "id": "21a7e0c4",
   "metadata": {},
   "outputs": [],
   "source": [
    "#Select only depth records into a data array object\n",
    "arr_depth = ds['depth']\n",
    "type(arr_depth)"
   ]
  },
  {
   "cell_type": "markdown",
   "id": "bdbb970e",
   "metadata": {},
   "source": [
    "The data array object retains values in all dimensions, but just values pertaining to the specified variable. **However**, not all variables include all dimensions. For example, the `depth` variable does not have a `partition` dimension, but the `wave_direction` variable does."
   ]
  },
  {
   "cell_type": "code",
   "execution_count": null,
   "id": "12f85993",
   "metadata": {},
   "outputs": [],
   "source": [
    "#Show dimensions for the depth array\n",
    "arr_depth.dims"
   ]
  },
  {
   "cell_type": "code",
   "execution_count": null,
   "id": "2082a8aa",
   "metadata": {},
   "outputs": [],
   "source": [
    "#Show dimensions for the wave direction array\n",
    "ds['wave_direction'].dims"
   ]
  },
  {
   "cell_type": "markdown",
   "id": "b01642cc",
   "metadata": {},
   "source": [
    "## Selecting data from a dataset with `.isel()`\n",
    "The `.isel()` function allows us to select values from our dataset via the integer position. We supply this position for each index. Omiting a value for a given dimension will return all values for that dimension. "
   ]
  },
  {
   "cell_type": "code",
   "execution_count": null,
   "id": "8debfc3e",
   "metadata": {},
   "outputs": [],
   "source": [
    "#Select the wave_direction value for the record falling in the first\n",
    "# position in the date dimension, the 10 position in the gridcell dimension, \n",
    "# and in the last position of the partition dimension\n",
    "wave_dir_value = ds['wave_direction'].isel(date=0,gridpoint=9, partition=-1)\n",
    "type(wave_dir_value)"
   ]
  },
  {
   "cell_type": "markdown",
   "id": "6c0e30ff",
   "metadata": {},
   "source": [
    "The result is again a data array, but with just one potential value. And we can see that the wave_length at this position has no recorded value. "
   ]
  },
  {
   "cell_type": "code",
   "execution_count": null,
   "id": "5183af17",
   "metadata": {},
   "outputs": [],
   "source": [
    "#Show info for the resulting data array\n",
    "wave_dir_value"
   ]
  },
  {
   "cell_type": "markdown",
   "id": "2857b415",
   "metadata": {},
   "source": [
    "The `values` operator of a data array will return all the values in that array."
   ]
  },
  {
   "cell_type": "code",
   "execution_count": null,
   "id": "7d284c42",
   "metadata": {},
   "outputs": [],
   "source": [
    "#Reveal just the values of the data array\n",
    "wave_dir_value.values"
   ]
  },
  {
   "cell_type": "markdown",
   "id": "b3dd3b39",
   "metadata": {},
   "source": [
    "If, in the `isel()` command, we omit a dimension, the resulting data array will include all records along that axis. "
   ]
  },
  {
   "cell_type": "code",
   "execution_count": null,
   "id": "3f10d94e",
   "metadata": {},
   "outputs": [],
   "source": [
    "#View data for all partitions, limited to the 11th date and 11th gridpoint positions)\n",
    "ds['wave_direction'].isel(date=10,gridpoint=10)"
   ]
  },
  {
   "cell_type": "code",
   "execution_count": null,
   "id": "e94e5243",
   "metadata": {},
   "outputs": [],
   "source": [
    "#Show just the values\n",
    "ds['wave_direction'].isel(date=10,gridpoint=10).values"
   ]
  },
  {
   "cell_type": "code",
   "execution_count": null,
   "id": "51696749",
   "metadata": {},
   "outputs": [],
   "source": [
    "#Compute the mean of all (non missing) values\n",
    "ds['wave_direction'].isel(date=10,gridpoint=10).mean().values"
   ]
  },
  {
   "cell_type": "markdown",
   "id": "da90b0dc",
   "metadata": {},
   "source": [
    "❓What dimensions does the `wind_direction` variable have\n",
    "What is the wind_direction value for the 10 date, 3rd gridpoint?"
   ]
  },
  {
   "cell_type": "code",
   "execution_count": null,
   "id": "19e66ab3",
   "metadata": {},
   "outputs": [],
   "source": [
    "#Show the dimensions of the wind direction variable\n",
    "ds['wind_direction'].dims"
   ]
  },
  {
   "cell_type": "code",
   "execution_count": null,
   "id": "f48d540a",
   "metadata": {},
   "outputs": [],
   "source": [
    "#Show the wind_direction value for the 10th date, 3rd gridpoint?\n",
    "ds['wind_direction'].isel(date=9,gridpoint=3).values"
   ]
  },
  {
   "cell_type": "markdown",
   "id": "a132f498",
   "metadata": {},
   "source": [
    "### Selecting values by *index position* with `.sel()`\n",
    "Applying the `.sel()` command to a dataset allows us to select values by a coordinate label. "
   ]
  },
  {
   "cell_type": "code",
   "execution_count": null,
   "id": "4f1c5e1b",
   "metadata": {},
   "outputs": [],
   "source": [
    "\n",
    "lon = ds.longitude.isel(date=0)\n",
    "lat = ds.latitude.isel(date=0)\n",
    "depth = ds.depth.isel(date=0)\n",
    "\n",
    "coord_table = pd.DataFrame({\n",
    "    'gridpoint': ds.gridpoint.values,\n",
    "    'longitude': lon.values,\n",
    "    'latitude': lat.values,\n",
    "    'depth': depth.values\n",
    "})\n",
    "\n",
    "coord_table.head()"
   ]
  }
 ],
 "metadata": {
  "kernelspec": {
   "display_name": "arcgispro-py3",
   "language": "python",
   "name": "python3"
  },
  "language_info": {
   "codemirror_mode": {
    "name": "ipython",
    "version": 3
   },
   "file_extension": ".py",
   "mimetype": "text/x-python",
   "name": "python",
   "nbconvert_exporter": "python",
   "pygments_lexer": "ipython3",
   "version": "3.11.11"
  }
 },
 "nbformat": 4,
 "nbformat_minor": 5
}
