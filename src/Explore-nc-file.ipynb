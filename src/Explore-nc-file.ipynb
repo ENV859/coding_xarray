{
 "cells": [
  {
   "cell_type": "markdown",
   "id": "44a0f982",
   "metadata": {},
   "source": [
    "# Exploring NetCDF (*.nc) files\n",
    "In this notebook we examine how the `xarray` package works with multidimensional NetCDF (`*.nc`) files. We discuss the structure and components of a NetCDF file (dimensions, variables, indexes, and attributes), as well as how to extract and summarize data across dimensions and variables held in the dataset.  \n",
    "\n",
    "The dataset we'll use comes from NOAA's [Hindcast and Reanalysis Archives - Phase 2](https://polar.ncep.noaa.gov/waves/hindcasts/nopp-phase2.php).  \n",
    "\n",
    "Specifically, we are using 10m partition data from January 1979 for the Mediterranean Sea ([link](https://polar.ncep.noaa.gov/waves/hindcasts/nopp-phase2/197901/partitions)). This [dataset](https://polar.ncep.noaa.gov/waves/hindcasts/nopp-phase2/197901/partitions/multi_reanal.partition.med_10m.197901.nc) will be available on the mapped class drive at `U:\\859_data\\multi_reanal.partition.med_10m.197901.nc`"
   ]
  },
  {
   "cell_type": "code",
   "execution_count": null,
   "id": "86cc2c47",
   "metadata": {},
   "outputs": [],
   "source": [
    "# Import packages\n",
    "from pathlib import Path\n",
    "import pandas as pd\n",
    "import xarray as xr\n",
    "import matplotlib.pyplot as plt"
   ]
  },
  {
   "cell_type": "markdown",
   "id": "884422e9",
   "metadata": {},
   "source": [
    "## Read the NetCDF file into an `xarray` **dataset** object."
   ]
  },
  {
   "cell_type": "code",
   "execution_count": null,
   "id": "8fdc0579",
   "metadata": {},
   "outputs": [],
   "source": [
    "# Set path to nc filed and import as an xarray dataset, then show the dataset object\n",
    "nc_file = \"V:\\multi_reanal.partition.med_10m.197901.nc\"\n",
    "ds = xr.open_dataset(nc_file)\n",
    "ds"
   ]
  },
  {
   "cell_type": "markdown",
   "id": "b494f9c1",
   "metadata": {},
   "source": [
    "## The components of an `xarray` dataset object:\n",
    "### ➡️Dimensions\n",
    "Dimensions define the axes or coordinate lengths that structure the dataset. In GIS, we are used to 2-dimensional datasets, e.g., the typical raster dataset, where values are associated with x and y geographic coordinates. But datasets can have additional dimensions. For example, if we have a separate raster for different time and depths, we'd have a 4 dimensional dataset. \n",
    "\n",
    "Our data has 4 dimensions:"
   ]
  },
  {
   "cell_type": "code",
   "execution_count": null,
   "id": "a932acbd",
   "metadata": {},
   "outputs": [],
   "source": [
    "#Reveal the dimensions of the dataset\n",
    "ds.dims"
   ]
  },
  {
   "cell_type": "markdown",
   "id": "0c66611f",
   "metadata": {},
   "source": [
    "* There are **745 *time* steps** (`date: 745`)\n",
    "* Each time step includes data for **301** points of ***latitude*** and **109** points of ***longitude*** (`longitude: 301, latitude: 109`)\n",
    "* Each location at each time step is associated with **11 *partitions*** (`partition: 11`)\n",
    "\n",
    ">  While the first three dimensions are intuitive, the fourth dimension, \"partition\" is specific to this dataset. Partitions refer to different spectral components of oceanic waves ([source](https://polar.ncep.noaa.gov/waves/workshop/pdfs/WW3-workshop-exercises-day4-wavetracking.pdf?utm_source=chatgpt.com)). For our purposes, we don't need to get into much detail beyond that; instead, perhaps just imagine that this dataset was collected by a set of 11 different sensor types, and the \"partition\" dimension represents data collected by each of these different sensors. \n",
    "\n",
    "In short, dimensions describe how the dataset is organized — e.g., time, space, or ensemble members. You could perhaps think of dimensions as the *axes of a multidimensional spreadsheet*."
   ]
  },
  {
   "cell_type": "markdown",
   "id": "73b8146a",
   "metadata": {},
   "source": [
    "### ➡️Data Variables\n",
    "\n",
    "Data variables are the core measured or modeled quantities — the actual “data fields” stored along the dataset’s dimensions. "
   ]
  },
  {
   "cell_type": "code",
   "execution_count": null,
   "id": "66c06827",
   "metadata": {},
   "outputs": [],
   "source": [
    "#Reveal the data variables of the dataset\n",
    "ds.data_vars"
   ]
  },
  {
   "cell_type": "markdown",
   "id": "412314ac",
   "metadata": {},
   "source": [
    "Each data variable changes along on one or more dimensions.\n",
    "For instance:\n",
    "```python\n",
    "depth(latitude, longitude)\n",
    "significant_wave_height(date, partition, latitude, longitude)\n",
    "```\n",
    "* **depth** varies latitude and longitude, but it does not vary over time or by partition.\n",
    "* **significant_wave_height** varies over date, location, and partition, so it’s a 4D variable: wave height for each partition of the spectrum at each time and location.\n",
    "\n",
    "> Each variable is like a column in a data table, but in multiple dimensions."
   ]
  },
  {
   "cell_type": "markdown",
   "id": "775700d6",
   "metadata": {},
   "source": [
    "### ➡️Indexes\n",
    "While *dimensions* describe the axes along which our data are organized, *indexes* specify the measures along those axes — like labels for time, space, or category."
   ]
  },
  {
   "cell_type": "code",
   "execution_count": null,
   "id": "0d441aa9",
   "metadata": {},
   "outputs": [],
   "source": [
    "#Reveal the indices of the dataset\n",
    "ds.indexes"
   ]
  },
  {
   "cell_type": "markdown",
   "id": "94873f42",
   "metadata": {},
   "source": [
    "The above output shows the index values associated with each dimensions. \n",
    "\n",
    "For example, \n",
    "* The `date` dimension has an index for each hour from midnight on Jan 1, 1979 to midnight on Feb 1, 1979.\n",
    "* The `longitude` dimension has 301 values that span from 7°W to 43°E.\n",
    "* The `latitude` dimension has 109 values that span from 30°N to 48°N.\n",
    "* The `partition` dimension has no meaningful index values.\n",
    "\n",
    "We can use these index values to extract data in meaningful ways, e.g. by time and location. "
   ]
  },
  {
   "cell_type": "markdown",
   "id": "fa533f9a",
   "metadata": {},
   "source": [
    "#### ➡️Attributes (Metadata)\n",
    "Attributes are descriptive metadata — they provide context about the dataset or variables but don’t affect the data structure."
   ]
  },
  {
   "cell_type": "code",
   "execution_count": null,
   "id": "42d79e48",
   "metadata": {},
   "outputs": [],
   "source": [
    "#Reveal the attributes of the dataset\n",
    "ds.attrs"
   ]
  },
  {
   "cell_type": "markdown",
   "id": "8bccd932",
   "metadata": {},
   "source": [
    "These tell you:\n",
    "* What the data represents (a hindcast from WAVEWATCH III).\n",
    "* Where it came from (NCEP, CFSRR project).\n",
    "* How it was produced (part2nc = partition-to-NetCDF conversion).\n",
    "Each variable may also have its own attributes (e.g., units, standard names).\n",
    ">Attributes are like the notes on the spreadsheet explaining what the numbers mean."
   ]
  },
  {
   "cell_type": "markdown",
   "id": "2cba3631",
   "metadata": {},
   "source": [
    "---\n",
    "## Selecting data from the dataset\n",
    "Now we'll look into how to extract, and in some cases summarize data in our dataset. First, we'll look at how to isolate and examine a single variable in our dataset. Then we'll see how we can extract values by index *position* along the different dimensions, and finally how to extract values by index *values* along the different dimensions.\n",
    "\n",
    "### 🔍Isolating data for a specific specific *variable*\n",
    "We can subset our Xarray dataset for just values related to a specific variable by calling that variable as so:"
   ]
  },
  {
   "cell_type": "code",
   "execution_count": null,
   "id": "afc85098",
   "metadata": {},
   "outputs": [],
   "source": [
    "#List the variables in the dataset\n",
    "ds.data_vars"
   ]
  },
  {
   "cell_type": "code",
   "execution_count": null,
   "id": "21a7e0c4",
   "metadata": {},
   "outputs": [],
   "source": [
    "#Select only depth records into a data array object\n",
    "arr_depth = ds['depth']\n",
    "type(arr_depth)"
   ]
  },
  {
   "cell_type": "markdown",
   "id": "c831bea6",
   "metadata": {},
   "source": [
    "As you see, this creates an XArray `data array` object. Calling that object reveals information about its structure."
   ]
  },
  {
   "cell_type": "code",
   "execution_count": null,
   "id": "ce38ffeb",
   "metadata": {},
   "outputs": [],
   "source": [
    "#Display info on the depth data array\n",
    "arr_depth"
   ]
  },
  {
   "cell_type": "markdown",
   "id": "bdbb970e",
   "metadata": {},
   "source": [
    "The data array object is similar to the dataset, but only retains values related to the variable. **However**, not all variables include all dimensions. For example, the `depth` variable does not have a `date` or `partition` dimension, which makes sense: it does not vary [much] across time or partition, just location. "
   ]
  },
  {
   "cell_type": "code",
   "execution_count": null,
   "id": "12f85993",
   "metadata": {},
   "outputs": [],
   "source": [
    "#Show dimensions for the depth array\n",
    "arr_depth.dims"
   ]
  },
  {
   "cell_type": "markdown",
   "id": "f5cadd32",
   "metadata": {},
   "source": [
    "The `wave_direction`, however, does include data in all the four dimensions..."
   ]
  },
  {
   "cell_type": "code",
   "execution_count": null,
   "id": "2082a8aa",
   "metadata": {},
   "outputs": [],
   "source": [
    "#Show dimensions for the wave direction array\n",
    "ds['wave_direction'].dims"
   ]
  },
  {
   "cell_type": "markdown",
   "id": "b01642cc",
   "metadata": {},
   "source": [
    "### 🔍Selecting data from a dataset with `.isel()`\n",
    "Now, we'll focus on working with data in a data array. \n",
    "\n",
    "We'll begin with the `.isel()` function. This functions allows us to select values from our dataset via their *integer position* along each dimension. For, example, the value in the `wave_direction` variable at the 5th positition along the `date` axis, the 63rd position along the `latitude` axis, the 68th position along the `longitude` axis and in the 1st `partition` is **272.41 degrees**. (Note, the `values` statement returns the value(s) held in the array.)\n",
    "\n",
    ">How do we know the value is in degrees? Have a look at the data array object: it reports the units..."
   ]
  },
  {
   "cell_type": "code",
   "execution_count": null,
   "id": "520e4443",
   "metadata": {},
   "outputs": [],
   "source": [
    "#Show the value at the 5th date, 63rd latitude, 68th longitude, 1st partition\n",
    "ds['wave_direction'].isel(\n",
    "    date=4,\n",
    "    latitude=62,\n",
    "    longitude=67,\n",
    "    partition=0\n",
    ").values"
   ]
  },
  {
   "cell_type": "markdown",
   "id": "6a5df9bc",
   "metadata": {},
   "source": [
    "If we omit any of the dimensions (or just comment them out), the `isel()` function will return all values in the ommitted dimension.  \n",
    "\n",
    "Here we see that, in the `wave_direction` variable, only two of the 12 partitions have values (at the specified time and spatial coordinate)."
   ]
  },
  {
   "cell_type": "code",
   "execution_count": null,
   "id": "d9d4b93b",
   "metadata": {},
   "outputs": [],
   "source": [
    "#Show the value at the 5th date, 63rd latitude, 68th longitude, all partition\n",
    "ds['wave_direction'].isel(\n",
    "    date = 4,\n",
    "    latitude=62,\n",
    "    longitude=67, \n",
    "    #partition=0\n",
    ").values"
   ]
  },
  {
   "cell_type": "markdown",
   "id": "ba3432d9",
   "metadata": {},
   "source": [
    "If we omit the spatial coordinates, we get data along all the lat/long pairs for a set time and partition, i.e., a spatial dataset which we can plot."
   ]
  },
  {
   "cell_type": "code",
   "execution_count": null,
   "id": "48b2091e",
   "metadata": {},
   "outputs": [],
   "source": [
    "#Save the value at the 5th date, 1st partition, all latitudes and longitudes to a variable\n",
    "spatial_slice = ds['wave_direction'].isel(\n",
    "    date = 4,\n",
    "    #latitude=62,\n",
    "    #longitude=67, \n",
    "    partition=0\n",
    ").values"
   ]
  },
  {
   "cell_type": "code",
   "execution_count": null,
   "id": "9ddd6115",
   "metadata": {},
   "outputs": [],
   "source": [
    "#Plot the 2D array\n",
    "plt.imshow(spatial_slice, cmap='viridis')"
   ]
  },
  {
   "cell_type": "markdown",
   "id": "debc2c6a",
   "metadata": {},
   "source": [
    "And yes, if we omit the time dimension, we can plot a time series for a specific location and partition."
   ]
  },
  {
   "cell_type": "code",
   "execution_count": null,
   "id": "17467ba4",
   "metadata": {},
   "outputs": [],
   "source": [
    "#Save a time series at 63rd latitude, 68th longitude, 1st partition to a variable\n",
    "time_series = ds['wave_direction'].isel(\n",
    "    #date = 4,\n",
    "    latitude=62,\n",
    "    longitude=67, \n",
    "    partition=0\n",
    ").values"
   ]
  },
  {
   "cell_type": "code",
   "execution_count": null,
   "id": "84f80260",
   "metadata": {},
   "outputs": [],
   "source": [
    "#Create a simple line plot of the time series\n",
    "plt.plot(time_series);"
   ]
  },
  {
   "cell_type": "markdown",
   "id": "6c0e30ff",
   "metadata": {},
   "source": [
    "We can also request multiple values along a dimension by providing a list of indices:"
   ]
  },
  {
   "cell_type": "code",
   "execution_count": null,
   "id": "5183af17",
   "metadata": {},
   "outputs": [],
   "source": [
    "#Show the value at the 5th & 8th date, 63rd latitude, 68th longitude, 1st & 2nd partition\n",
    "ds['wave_direction'].isel(\n",
    "    date = [4,7],\n",
    "    latitude=63,\n",
    "    longitude=68,\n",
    "    partition = [0,1]\n",
    ").values"
   ]
  },
  {
   "cell_type": "markdown",
   "id": "c49a601d",
   "metadata": {},
   "source": [
    "And we can extract a slice of values using the range function:"
   ]
  },
  {
   "cell_type": "code",
   "execution_count": null,
   "id": "ea7f7ac8",
   "metadata": {},
   "outputs": [],
   "source": [
    "#Show the value at the 5th & 8th date, 63rd latitude, 68th longitude, 1st & 2nd partition\n",
    "ds['wave_direction'].isel(\n",
    "    date = range(4,8),\n",
    "    latitude=63,\n",
    "    longitude=68,\n",
    "    partition = [0,1]\n",
    ").values"
   ]
  },
  {
   "cell_type": "markdown",
   "id": "a132f498",
   "metadata": {},
   "source": [
    "### Selecting values by *index* with `.sel()`\n",
    "Applying the `.sel()` command to a dataset allows us to select records by their *index values*.  \n",
    "\n",
    "Of course, to do this, we need an idea of what those index values are. Some values are intuitive, like values in the `date` dimension, but others may require more knowledge of the datasets structure.  "
   ]
  },
  {
   "cell_type": "code",
   "execution_count": null,
   "id": "56f02bb4",
   "metadata": {},
   "outputs": [],
   "source": [
    "#Show the first 10 values in the date index\n",
    "ds['date'][:10].values"
   ]
  },
  {
   "cell_type": "markdown",
   "id": "d8c869e2",
   "metadata": {},
   "source": [
    "Looking at the date index values, we see they are datetime objects of hourly increments from Jan 1, 1979 to Jan 30, 1979.\n"
   ]
  },
  {
   "cell_type": "code",
   "execution_count": null,
   "id": "a454c4a7",
   "metadata": {},
   "outputs": [],
   "source": [
    "#Show the \n",
    "ds['gridpoint'].values"
   ]
  },
  {
   "cell_type": "code",
   "execution_count": null,
   "id": "d9aa4ed0",
   "metadata": {},
   "outputs": [],
   "source": [
    "ds['wave_direction']['partition']"
   ]
  },
  {
   "cell_type": "code",
   "execution_count": null,
   "id": "4f1c5e1b",
   "metadata": {},
   "outputs": [],
   "source": [
    "\n",
    "lon = ds.longitude.isel(date=0)\n",
    "lat = ds.latitude.isel(date=0)\n",
    "depth = ds.depth.isel(date=0)\n",
    "\n",
    "coord_table = pd.DataFrame({\n",
    "    'gridpoint': ds.gridpoint.values,\n",
    "    'longitude': lon.values,\n",
    "    'latitude': lat.values,\n",
    "    'depth': depth.values\n",
    "})\n",
    "\n",
    "coord_table.head()"
   ]
  },
  {
   "cell_type": "code",
   "execution_count": null,
   "id": "274a2d3a",
   "metadata": {},
   "outputs": [],
   "source": [
    "ds = xr.open_dataset(Path.cwd().parent /'data'/'raw'/'nwio_10m.nc')\n",
    "ds"
   ]
  },
  {
   "cell_type": "code",
   "execution_count": null,
   "id": "8aa61f96",
   "metadata": {},
   "outputs": [],
   "source": []
  }
 ],
 "metadata": {
  "kernelspec": {
   "display_name": "arcgispro-py3",
   "language": "python",
   "name": "python3"
  },
  "language_info": {
   "codemirror_mode": {
    "name": "ipython",
    "version": 3
   },
   "file_extension": ".py",
   "mimetype": "text/x-python",
   "name": "python",
   "nbconvert_exporter": "python",
   "pygments_lexer": "ipython3",
   "version": "3.11.11"
  }
 },
 "nbformat": 4,
 "nbformat_minor": 5
}
